{
 "cells": [
  {
   "cell_type": "code",
   "execution_count": 1,
   "id": "6ff55db8-50b0-4c27-a3dd-e5ddec385dc3",
   "metadata": {},
   "outputs": [],
   "source": [
    "import pandas as pd\n",
    "import numpy as np\n",
    "from matplotlib import pyplot as plt\n",
    "import socceraction.spadl.utils as spu"
   ]
  },
  {
   "cell_type": "code",
   "execution_count": 2,
   "id": "a8ebf608-11a4-411b-b0dd-2c07837034b2",
   "metadata": {},
   "outputs": [],
   "source": [
    "# df = pd.read_csv(\"../data/event_data_latest_2425.csv\")\n",
    "df = pd.read_csv(\"../../soccer_analysis/data/event_data_latest_2425_2.csv\")"
   ]
  },
  {
   "cell_type": "code",
   "execution_count": 3,
   "id": "dfe9822f-43b9-433c-8db4-c143ebb5d0c7",
   "metadata": {},
   "outputs": [],
   "source": [
    "df = spu.add_names(df)"
   ]
  },
  {
   "cell_type": "code",
   "execution_count": 5,
   "id": "d380b11d-f122-4698-927e-ee9b7f015d84",
   "metadata": {},
   "outputs": [],
   "source": [
    "sub_df = df[df[\"game_id\"] == 1821245]"
   ]
  },
  {
   "cell_type": "code",
   "execution_count": 6,
   "id": "c3cc7a62-2923-4888-9ae3-dae537f1c45a",
   "metadata": {},
   "outputs": [
    {
     "data": {
      "text/plain": [
       "array(['Curtis Jones', 'Caoimhín Kelleher', 'Cody Gakpo',\n",
       "       'Alexis Mac Allister', 'Andy Robertson', 'Virgil van Dijk',\n",
       "       'Nick Pope', 'Fabian Schär', 'Tino Livramento', 'Bruno Guimarães',\n",
       "       'Jacob Murphy', 'Joelinton', 'Anthony Gordon', 'Sandro Tonali',\n",
       "       'Lewis Hall', 'Joe Gomez', 'Ryan Gravenberch', 'Alexander Isak',\n",
       "       'Jarell Quansah', 'Mohamed Salah', 'Darwin Núñez', 'Dan Burn',\n",
       "       'Luis Díaz', 'Trent Alexander-Arnold', 'Dominik Szoboszlai',\n",
       "       'Harvey Barnes', 'Sean Longstaff', 'Joe Willock', 'Callum Wilson'],\n",
       "      dtype=object)"
      ]
     },
     "execution_count": 6,
     "metadata": {},
     "output_type": "execute_result"
    }
   ],
   "source": [
    "sub_df[\"player\"].unique()"
   ]
  },
  {
   "cell_type": "code",
   "execution_count": 7,
   "id": "5b67caae-f8ee-4dba-b306-e2dc7cb950fd",
   "metadata": {},
   "outputs": [
    {
     "data": {
      "text/plain": [
       "Index(['Unnamed: 0', 'game_id', 'original_event_id', 'period_id',\n",
       "       'time_seconds', 'team_id', 'player_id', 'start_x', 'end_x', 'start_y',\n",
       "       'end_y', 'type_id', 'result_id', 'bodypart_id', 'action_id', 'player',\n",
       "       'team', 'type_name', 'result_name', 'bodypart_name'],\n",
       "      dtype='object')"
      ]
     },
     "execution_count": 7,
     "metadata": {},
     "output_type": "execute_result"
    }
   ],
   "source": [
    "sub_df.columns"
   ]
  },
  {
   "cell_type": "code",
   "execution_count": 10,
   "id": "6e746c82-19c7-420a-a556-89642efe6e4e",
   "metadata": {},
   "outputs": [
    {
     "data": {
      "text/plain": [
       "Index(['Unnamed: 0', 'game_id', 'original_event_id', 'period_id',\n",
       "       'time_seconds', 'team_id', 'player_id', 'start_x', 'end_x', 'start_y',\n",
       "       'end_y', 'type_id', 'result_id', 'bodypart_id', 'action_id', 'player',\n",
       "       'team', 'type_name', 'result_name', 'bodypart_name'],\n",
       "      dtype='object')"
      ]
     },
     "execution_count": 10,
     "metadata": {},
     "output_type": "execute_result"
    }
   ],
   "source": [
    "sub_df.columns"
   ]
  },
  {
   "cell_type": "code",
   "execution_count": 13,
   "id": "f64c3750-afed-4efb-b870-4be0c67261f8",
   "metadata": {},
   "outputs": [
    {
     "data": {
      "text/plain": [
       "array(['pass', 'dribble', 'keeper_pick_up', 'tackle', 'throw_in',\n",
       "       'take_on', 'shot', 'keeper_save', 'corner_crossed', 'clearance',\n",
       "       'goalkick', 'bad_touch', 'interception', 'foul', 'freekick_short',\n",
       "       'freekick_crossed', 'keeper_claim', 'corner_short', 'cross',\n",
       "       'shot_freekick'], dtype=object)"
      ]
     },
     "execution_count": 13,
     "metadata": {},
     "output_type": "execute_result"
    }
   ],
   "source": [
    "sub_df[\"type_name\"].unique()"
   ]
  },
  {
   "cell_type": "code",
   "execution_count": 12,
   "id": "d5a66bad-baea-4166-97e2-1fe85a90dc88",
   "metadata": {},
   "outputs": [
    {
     "data": {
      "text/html": [
       "<div>\n",
       "<style scoped>\n",
       "    .dataframe tbody tr th:only-of-type {\n",
       "        vertical-align: middle;\n",
       "    }\n",
       "\n",
       "    .dataframe tbody tr th {\n",
       "        vertical-align: top;\n",
       "    }\n",
       "\n",
       "    .dataframe thead th {\n",
       "        text-align: right;\n",
       "    }\n",
       "</style>\n",
       "<table border=\"1\" class=\"dataframe\">\n",
       "  <thead>\n",
       "    <tr style=\"text-align: right;\">\n",
       "      <th></th>\n",
       "      <th>player</th>\n",
       "      <th>result_name</th>\n",
       "      <th>action_id</th>\n",
       "    </tr>\n",
       "  </thead>\n",
       "  <tbody>\n",
       "    <tr>\n",
       "      <th>221870</th>\n",
       "      <td>Sandro Tonali</td>\n",
       "      <td>fail</td>\n",
       "      <td>30</td>\n",
       "    </tr>\n",
       "    <tr>\n",
       "      <th>221874</th>\n",
       "      <td>Lewis Hall</td>\n",
       "      <td>fail</td>\n",
       "      <td>34</td>\n",
       "    </tr>\n",
       "    <tr>\n",
       "      <th>222125</th>\n",
       "      <td>Mohamed Salah</td>\n",
       "      <td>fail</td>\n",
       "      <td>285</td>\n",
       "    </tr>\n",
       "    <tr>\n",
       "      <th>222127</th>\n",
       "      <td>Alexis Mac Allister</td>\n",
       "      <td>fail</td>\n",
       "      <td>287</td>\n",
       "    </tr>\n",
       "    <tr>\n",
       "      <th>222136</th>\n",
       "      <td>Alexis Mac Allister</td>\n",
       "      <td>fail</td>\n",
       "      <td>296</td>\n",
       "    </tr>\n",
       "    <tr>\n",
       "      <th>222258</th>\n",
       "      <td>Jacob Murphy</td>\n",
       "      <td>fail</td>\n",
       "      <td>418</td>\n",
       "    </tr>\n",
       "    <tr>\n",
       "      <th>222270</th>\n",
       "      <td>Bruno Guimarães</td>\n",
       "      <td>fail</td>\n",
       "      <td>430</td>\n",
       "    </tr>\n",
       "    <tr>\n",
       "      <th>222318</th>\n",
       "      <td>Cody Gakpo</td>\n",
       "      <td>fail</td>\n",
       "      <td>478</td>\n",
       "    </tr>\n",
       "    <tr>\n",
       "      <th>222321</th>\n",
       "      <td>Darwin Núñez</td>\n",
       "      <td>fail</td>\n",
       "      <td>481</td>\n",
       "    </tr>\n",
       "    <tr>\n",
       "      <th>222524</th>\n",
       "      <td>Alexander Isak</td>\n",
       "      <td>success</td>\n",
       "      <td>684</td>\n",
       "    </tr>\n",
       "    <tr>\n",
       "      <th>222577</th>\n",
       "      <td>Anthony Gordon</td>\n",
       "      <td>fail</td>\n",
       "      <td>737</td>\n",
       "    </tr>\n",
       "    <tr>\n",
       "      <th>222593</th>\n",
       "      <td>Jacob Murphy</td>\n",
       "      <td>fail</td>\n",
       "      <td>753</td>\n",
       "    </tr>\n",
       "    <tr>\n",
       "      <th>222637</th>\n",
       "      <td>Joelinton</td>\n",
       "      <td>fail</td>\n",
       "      <td>797</td>\n",
       "    </tr>\n",
       "    <tr>\n",
       "      <th>222648</th>\n",
       "      <td>Joelinton</td>\n",
       "      <td>fail</td>\n",
       "      <td>808</td>\n",
       "    </tr>\n",
       "    <tr>\n",
       "      <th>222821</th>\n",
       "      <td>Curtis Jones</td>\n",
       "      <td>success</td>\n",
       "      <td>981</td>\n",
       "    </tr>\n",
       "    <tr>\n",
       "      <th>222873</th>\n",
       "      <td>Cody Gakpo</td>\n",
       "      <td>fail</td>\n",
       "      <td>1033</td>\n",
       "    </tr>\n",
       "    <tr>\n",
       "      <th>222972</th>\n",
       "      <td>Anthony Gordon</td>\n",
       "      <td>fail</td>\n",
       "      <td>1132</td>\n",
       "    </tr>\n",
       "    <tr>\n",
       "      <th>223012</th>\n",
       "      <td>Anthony Gordon</td>\n",
       "      <td>fail</td>\n",
       "      <td>1172</td>\n",
       "    </tr>\n",
       "    <tr>\n",
       "      <th>223032</th>\n",
       "      <td>Anthony Gordon</td>\n",
       "      <td>success</td>\n",
       "      <td>1192</td>\n",
       "    </tr>\n",
       "    <tr>\n",
       "      <th>223044</th>\n",
       "      <td>Curtis Jones</td>\n",
       "      <td>fail</td>\n",
       "      <td>1204</td>\n",
       "    </tr>\n",
       "    <tr>\n",
       "      <th>223053</th>\n",
       "      <td>Darwin Núñez</td>\n",
       "      <td>fail</td>\n",
       "      <td>1213</td>\n",
       "    </tr>\n",
       "    <tr>\n",
       "      <th>223101</th>\n",
       "      <td>Mohamed Salah</td>\n",
       "      <td>success</td>\n",
       "      <td>1261</td>\n",
       "    </tr>\n",
       "    <tr>\n",
       "      <th>223129</th>\n",
       "      <td>Joelinton</td>\n",
       "      <td>fail</td>\n",
       "      <td>1289</td>\n",
       "    </tr>\n",
       "    <tr>\n",
       "      <th>223155</th>\n",
       "      <td>Jacob Murphy</td>\n",
       "      <td>fail</td>\n",
       "      <td>1315</td>\n",
       "    </tr>\n",
       "    <tr>\n",
       "      <th>223163</th>\n",
       "      <td>Curtis Jones</td>\n",
       "      <td>fail</td>\n",
       "      <td>1323</td>\n",
       "    </tr>\n",
       "    <tr>\n",
       "      <th>223260</th>\n",
       "      <td>Anthony Gordon</td>\n",
       "      <td>fail</td>\n",
       "      <td>1420</td>\n",
       "    </tr>\n",
       "    <tr>\n",
       "      <th>223280</th>\n",
       "      <td>Luis Díaz</td>\n",
       "      <td>fail</td>\n",
       "      <td>1440</td>\n",
       "    </tr>\n",
       "    <tr>\n",
       "      <th>223282</th>\n",
       "      <td>Darwin Núñez</td>\n",
       "      <td>fail</td>\n",
       "      <td>1442</td>\n",
       "    </tr>\n",
       "    <tr>\n",
       "      <th>223320</th>\n",
       "      <td>Mohamed Salah</td>\n",
       "      <td>fail</td>\n",
       "      <td>1480</td>\n",
       "    </tr>\n",
       "    <tr>\n",
       "      <th>223359</th>\n",
       "      <td>Mohamed Salah</td>\n",
       "      <td>success</td>\n",
       "      <td>1519</td>\n",
       "    </tr>\n",
       "    <tr>\n",
       "      <th>223440</th>\n",
       "      <td>Fabian Schär</td>\n",
       "      <td>success</td>\n",
       "      <td>1600</td>\n",
       "    </tr>\n",
       "    <tr>\n",
       "      <th>223479</th>\n",
       "      <td>Alexis Mac Allister</td>\n",
       "      <td>fail</td>\n",
       "      <td>1639</td>\n",
       "    </tr>\n",
       "  </tbody>\n",
       "</table>\n",
       "</div>"
      ],
      "text/plain": [
       "                     player result_name  action_id\n",
       "221870        Sandro Tonali        fail         30\n",
       "221874           Lewis Hall        fail         34\n",
       "222125        Mohamed Salah        fail        285\n",
       "222127  Alexis Mac Allister        fail        287\n",
       "222136  Alexis Mac Allister        fail        296\n",
       "222258         Jacob Murphy        fail        418\n",
       "222270      Bruno Guimarães        fail        430\n",
       "222318           Cody Gakpo        fail        478\n",
       "222321         Darwin Núñez        fail        481\n",
       "222524       Alexander Isak     success        684\n",
       "222577       Anthony Gordon        fail        737\n",
       "222593         Jacob Murphy        fail        753\n",
       "222637            Joelinton        fail        797\n",
       "222648            Joelinton        fail        808\n",
       "222821         Curtis Jones     success        981\n",
       "222873           Cody Gakpo        fail       1033\n",
       "222972       Anthony Gordon        fail       1132\n",
       "223012       Anthony Gordon        fail       1172\n",
       "223032       Anthony Gordon     success       1192\n",
       "223044         Curtis Jones        fail       1204\n",
       "223053         Darwin Núñez        fail       1213\n",
       "223101        Mohamed Salah     success       1261\n",
       "223129            Joelinton        fail       1289\n",
       "223155         Jacob Murphy        fail       1315\n",
       "223163         Curtis Jones        fail       1323\n",
       "223260       Anthony Gordon        fail       1420\n",
       "223280            Luis Díaz        fail       1440\n",
       "223282         Darwin Núñez        fail       1442\n",
       "223320        Mohamed Salah        fail       1480\n",
       "223359        Mohamed Salah     success       1519\n",
       "223440         Fabian Schär     success       1600\n",
       "223479  Alexis Mac Allister        fail       1639"
      ]
     },
     "execution_count": 12,
     "metadata": {},
     "output_type": "execute_result"
    }
   ],
   "source": [
    "sub_df[sub_df[\"type_name\"] == \"shot\"][[\"player\", \"result_name\", \"action_id\"]]"
   ]
  },
  {
   "cell_type": "code",
   "execution_count": 21,
   "id": "33fb83d2-7899-4f7f-b588-b2aad7fddaab",
   "metadata": {},
   "outputs": [
    {
     "data": {
      "text/plain": [
       "221845           Virgil van Dijk\n",
       "221848                 Nick Pope\n",
       "221851           Tino Livramento\n",
       "221856           Bruno Guimarães\n",
       "221859            Andy Robertson\n",
       "                   ...          \n",
       "223493    Trent Alexander-Arnold\n",
       "223498             Callum Wilson\n",
       "223508                 Luis Díaz\n",
       "223511       Alexis Mac Allister\n",
       "223516                 Nick Pope\n",
       "Name: player, Length: 440, dtype: object"
      ]
     },
     "execution_count": 21,
     "metadata": {},
     "output_type": "execute_result"
    }
   ],
   "source": [
    "sub_df[sub_df[\"type_name\"] == \"dribble\"][\"player\"]"
   ]
  },
  {
   "cell_type": "code",
   "execution_count": null,
   "id": "b4c4e4e6-bec0-4c5a-94df-db9e36f65cda",
   "metadata": {},
   "outputs": [],
   "source": []
  }
 ],
 "metadata": {
  "kernelspec": {
   "display_name": "Python 3 (ipykernel)",
   "language": "python",
   "name": "python3"
  },
  "language_info": {
   "codemirror_mode": {
    "name": "ipython",
    "version": 3
   },
   "file_extension": ".py",
   "mimetype": "text/x-python",
   "name": "python",
   "nbconvert_exporter": "python",
   "pygments_lexer": "ipython3",
   "version": "3.12.8"
  }
 },
 "nbformat": 4,
 "nbformat_minor": 5
}
